{
 "cells": [
  {
   "cell_type": "code",
   "execution_count": 18,
   "metadata": {},
   "outputs": [],
   "source": [
    "import re"
   ]
  },
  {
   "cell_type": "code",
   "execution_count": 19,
   "metadata": {},
   "outputs": [],
   "source": [
    "fname = 'text.txt'\n",
    "fname_out = 'text_out.txt'"
   ]
  },
  {
   "cell_type": "code",
   "execution_count": 20,
   "metadata": {},
   "outputs": [
    {
     "name": "stdout",
     "output_type": "stream",
     "text": [
      "<class 'str'>\n"
     ]
    }
   ],
   "source": [
    "with open(fname, \"r\", encoding=\"utf-8\") as f:\n",
    "    text = f.read()\n",
    "f.close()\n",
    "print(type(text))"
   ]
  },
  {
   "cell_type": "code",
   "execution_count": 23,
   "metadata": {},
   "outputs": [],
   "source": [
    "#remove foriegn language characters\n",
    "res = re.sub(r'[^\\x00-\\x7f]',r'', text) \n",
    "\n",
    "#remove text having less than 2 words\n",
    "text_2 = '\\n'.join([i for i in res.split('\\n') if len(i.split()) > 2])\n",
    "\n",
    "with open(fname_out, \"w\", encoding=\"utf-8\") as f:\n",
    "    f.write(text_2)\n",
    "f.close()\n",
    "\n",
    "# print(text_2)\n",
    "\n",
    "# str = \"123456790 ABC#%? .(朱惠英)\"\n",
    "# result = re.sub(r'[^\\x00-\\x7f]',r'', str)\n",
    "# print(result)"
   ]
  }
 ],
 "metadata": {
  "kernelspec": {
   "display_name": "Python 3",
   "language": "python",
   "name": "python3"
  },
  "language_info": {
   "codemirror_mode": {
    "name": "ipython",
    "version": 3
   },
   "file_extension": ".py",
   "mimetype": "text/x-python",
   "name": "python",
   "nbconvert_exporter": "python",
   "pygments_lexer": "ipython3",
   "version": "3.11.5"
  }
 },
 "nbformat": 4,
 "nbformat_minor": 2
}
